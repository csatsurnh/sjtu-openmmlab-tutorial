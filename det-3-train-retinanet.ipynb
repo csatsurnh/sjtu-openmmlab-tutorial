{
 "cells": [
  {
   "cell_type": "markdown",
   "id": "127dd72e-7ed6-4e6b-8864-be0b479ccf2e",
   "metadata": {},
   "source": [
    "# Train Detectors\n",
    "\n",
    "In this notebook we will train an detector using MMDetection."
   ]
  },
  {
   "cell_type": "markdown",
   "id": "22298ae9-0024-4e86-a903-4981053f5424",
   "metadata": {},
   "source": [
    "## Prepare the Dataset\n",
    "\n",
    "We have already prepared a dataset, a tiny subset from the KITTI autonomous driving datset.\n",
    "\n",
    "Our task is to detect pedestrian, cars, etc from street view images.\n",
    "\n",
    "To download and extract the dataset, in command line:\n",
    "\n",
    "```\n",
    "curl https://download.openmmlab.com/mmdetection/data/kitti_tiny.zip -o kitti_tiny.zip\n",
    "unzip -d data kitti_tiny.zip\n",
    "```\n",
    "\n",
    "The dataset contain *image files*, *label files* and *train/test splits*."
   ]
  },
  {
   "cell_type": "markdown",
   "id": "0881c647-2958-4271-9ec9-f05abfdd378c",
   "metadata": {},
   "source": [
    "## Format the Dataset"
   ]
  },
  {
   "cell_type": "markdown",
   "id": "1365cdd9-574d-41dc-b143-606f823b0c81",
   "metadata": {
    "tags": []
   },
   "source": [
    "Definition of Kitti annotation can be found [here](https://github.com/bostondiditeam/kitti/blob/master/resources/devkit_object/readme.txt#L46).\n",
    "\n",
    "To train with MMDetection, we need to generate an annotation file with the following format.\n",
    "\n",
    "```python\n",
    "[\n",
    "    {\n",
    "        'filename': 'a.jpg',\n",
    "        'width': 1280,\n",
    "        'height': 720,\n",
    "        'ann': {\n",
    "            'bboxes': <np.ndarray, float32> (n, 4),\n",
    "            'labels': <np.ndarray, int64> (n, ),\n",
    "            'bboxes_ignore': <np.ndarray, float32> (k, 4),\n",
    "            'labels_ignore': <np.ndarray, int64> (k, ) (optional field)\n",
    "        }\n",
    "    },\n",
    "    ...\n",
    "]\n",
    "```"
   ]
  },
  {
   "cell_type": "code",
   "execution_count": 1,
   "id": "5178e096-6a3d-4ce5-b528-77e53caf27a6",
   "metadata": {},
   "outputs": [
    {
     "name": "stdout",
     "output_type": "stream",
     "text": [
      "['Pedestrian', 'Truck', 'Car', 'Cyclist', 'Misc', 'Van', 'Tram', 'Person_sitting']\n"
     ]
    }
   ],
   "source": [
    "import mmcv\n",
    "import numpy as np\n",
    "\n",
    "CLASSES = []\n",
    "data_infos = []\n",
    "\n",
    "for idx in range(75):\n",
    "    imfile = f\"data/kitti_tiny/training/image_2/{idx:06d}.jpeg\"\n",
    "    annfile = f\"data/kitti_tiny/training/label_2/{idx:06d}.txt\"\n",
    "\n",
    "    image = mmcv.imread(imfile)\n",
    "    height, width = image.shape[:2]\n",
    "\n",
    "    ann = mmcv.list_from_file(annfile)\n",
    "\n",
    "    gt_bboxes = []\n",
    "    gt_labels = []\n",
    "    gt_bboxes_ignore = []\n",
    "\n",
    "    for line in ann:\n",
    "        line = line.split(' ')\n",
    "        bbox = [float(line[i]) for i in range(4,8)]\n",
    "        \n",
    "        if line[0] == 'DontCare':\n",
    "            gt_bboxes_ignore.append(bbox)\n",
    "        else:\n",
    "            gt_bboxes.append(bbox)\n",
    "            if line[0] not in CLASSES:\n",
    "                CLASSES.append(line[0])\n",
    "            gt_labels.append(CLASSES.index(line[0]))\n",
    "\n",
    "    data_infos.append(\n",
    "        dict(\n",
    "            filename=f\"{idx:06d}.jpeg\",\n",
    "            width=width,\n",
    "            height=height,\n",
    "            ann = dict(\n",
    "                bboxes=np.array(gt_bboxes, dtype=np.float32).reshape(-1,4),\n",
    "                labels=np.array(gt_labels, dtype=np.int64).reshape(-1),\n",
    "                bboxes_ignore=np.array(gt_bboxes_ignore, dtype=np.float32).reshape(-1,4),\n",
    "            )\n",
    "    ))\n",
    "    \n",
    "print(CLASSES)\n",
    "mmcv.dump(data_infos[:50], 'data/kitti_tiny/train_ann.pkl')\n",
    "mmcv.dump(data_infos[50:], 'data/kitti_tiny/test_ann.pkl')"
   ]
  },
  {
   "cell_type": "markdown",
   "id": "6dd9fc5f-d7a7-4bf4-8c43-ab7156e81831",
   "metadata": {},
   "source": [
    "## Prepare a Config and Checkpoint File\n",
    "\n",
    "We choose to use RetinaNet. \n",
    "\n",
    "Use mim to download the config file and checkpoint file.\n",
    "\n",
    "```\n",
    "mim download mmcls --config retinanet_r18_fpn_1x_coco --dest .\n",
    "mv retinanet_r18_fpn_1x_coco.py retinanet_r18_fpn_1x_kitti.py\n",
    "```\n",
    "\n",
    "If you prefer to play with other models, navigate to [MMDetection model zoo](https://github.com/open-mmlab/mmdetection#overview-of-benchmark-and-model-zoo)."
   ]
  },
  {
   "cell_type": "code",
   "execution_count": 2,
   "id": "76ca0906-acf9-4096-878a-7504e0d0622a",
   "metadata": {},
   "outputs": [
    {
     "name": "stdout",
     "output_type": "stream",
     "text": [
      "processing retinanet_r18_fpn_1x_coco...\n",
      "retinanet_r18_fpn_1x_coco_20220407_171055-614fd399.pth exists in C:\\wangruohui\\桌面\\sjtu-openmmlab-tutorial\n",
      "Successfully dumped retinanet_r18_fpn_1x_coco.py to C:\\wangruohui\\桌面\\sjtu-openmmlab-tutorial\n"
     ]
    },
    {
     "name": "stderr",
     "output_type": "stream",
     "text": [
      "C:\\Users\\wangruohui\\Miniconda3\\envs\\mm\\lib\\site-packages\\_distutils_hack\\__init__.py:30: UserWarning: Setuptools is replacing distutils.\n",
      "  warnings.warn(\"Setuptools is replacing distutils.\")\n"
     ]
    }
   ],
   "source": [
    "!mim download mmdet --config retinanet_r18_fpn_1x_coco --dest . "
   ]
  },
  {
   "cell_type": "markdown",
   "id": "b6e6ada9-8978-495c-86e2-a965799ddbb9",
   "metadata": {},
   "source": [
    "## Modify the Config File\n",
    "\n",
    "1. Remove some intermediate item for clean: `dataset_type`, `img_norm_cfg`, `train_pipeline`, `test_pipeline`\n",
    "1. Modify model\n",
    "    1. number of class in `bbox_head`: from 80 to 8\n",
    "    2. `inif_cfg`: to None\n",
    "    3. `load_from`: to the checkpoint we downloaded\n",
    "1. Data: for train/val/test \n",
    "    1. `type`: `CocoDataset` -> `CustomDataset`\n",
    "    2. `prefix`, which is the root path to images: modify to `\"data/kitti_tiny/training/image_2/\"`\n",
    "    3. `ann_file`, the pickle file we just generates: modify to `data/kitti_tiny/train_ann.pkl` for training subset and `data/kitti_tiny/val_ann.pkl` for validation / test subset\n",
    "    4. `evaluation.metric`: to `'mAP'`, which is designed for `CustomDataset`\n",
    "1. Runner and Optimizer\n",
    "    1. `optimizer.lr`: decrease learning rates based on linear scaling rule and for fine-tuning. \n",
    "    1. `lr_config`, decrease `warmup_iters` as we don't have that much iters for small dataset.\n",
    "1. Misc\n",
    "    1. Decrease `log_confg.interval` for more logs\n",
    "    1. Increase `checkpoint_config.interval` to avoid saving too many checkpoints, to save time and disk space"
   ]
  },
  {
   "cell_type": "markdown",
   "id": "c8071497-dd81-4121-b2b0-91df11d41734",
   "metadata": {},
   "source": [
    "## Launch Training\n",
    "\n",
    "In command line\n",
    "\n",
    "```\n",
    "mim train mmdet retinanet_r18_fpn_1x_kitti.py\n",
    "```"
   ]
  },
  {
   "cell_type": "markdown",
   "id": "9da09fe8-4d5c-43d5-9456-0e7bcf8e740c",
   "metadata": {},
   "source": [
    "## Understand Logs\n",
    "\n",
    "\n",
    "The log is long but mainly contains the following parts:\n",
    "\n",
    "1. Toolbox information\n",
    "2. Dumped Config files\n",
    "3. Model Initialization Logs\n",
    "    1. Check `mmdet - INFO - load checkpoint from local path: retinanet_r18_fpn_1x_coco_20220407_171055-614fd399.pth`, which means pretrained weights are loaded correctly.\n",
    "4. Information on Hooks: we don't configure this explicitly in this tutorial, so ignore that\n",
    "5. Training progress\n",
    "    1. Training logs: including current learning, training loss, time consumption, memory occupation\n",
    "    2. Validation logs: meanAP on validation set\n",
    "```\n"
   ]
  },
  {
   "cell_type": "markdown",
   "id": "515824b8-39f0-415f-8636-76f2cb7423f7",
   "metadata": {},
   "source": [
    "## Test the Model\n",
    "\n",
    "The trained model (checkpoint file) is usually saved under `work_dirs/{experiment_name}/latest.pth`. \n",
    "We can load it to test with a new image. "
   ]
  },
  {
   "cell_type": "code",
   "execution_count": 3,
   "id": "75c30d1a-25d6-4fac-8aee-21003c6c8109",
   "metadata": {},
   "outputs": [
    {
     "ename": "FileNotFoundError",
     "evalue": "file \"C:\\wangruohui\\桌面\\sjtu-openmmlab-tutorial\\retinanet_r18_fpn_1x_kitti.py\" does not exist",
     "output_type": "error",
     "traceback": [
      "\u001b[1;31m---------------------------------------------------------------------------\u001b[0m",
      "\u001b[1;31mFileNotFoundError\u001b[0m                         Traceback (most recent call last)",
      "Input \u001b[1;32mIn [3]\u001b[0m, in \u001b[0;36m<cell line: 4>\u001b[1;34m()\u001b[0m\n\u001b[0;32m      1\u001b[0m \u001b[38;5;28;01mfrom\u001b[39;00m \u001b[38;5;21;01mmmdet\u001b[39;00m\u001b[38;5;21;01m.\u001b[39;00m\u001b[38;5;21;01mapis\u001b[39;00m \u001b[38;5;28;01mimport\u001b[39;00m init_detector, inference_detector, show_result_pyplot\n\u001b[0;32m      3\u001b[0m image \u001b[38;5;241m=\u001b[39m \u001b[38;5;124m'\u001b[39m\u001b[38;5;124mdata/kitti_tiny/training/image_2/000066.jpeg\u001b[39m\u001b[38;5;124m'\u001b[39m\n\u001b[1;32m----> 4\u001b[0m model \u001b[38;5;241m=\u001b[39m \u001b[43minit_detector\u001b[49m\u001b[43m(\u001b[49m\u001b[38;5;124;43m'\u001b[39;49m\u001b[38;5;124;43mretinanet_r18_fpn_1x_kitti.py\u001b[39;49m\u001b[38;5;124;43m'\u001b[39;49m\u001b[43m,\u001b[49m\u001b[43m \u001b[49m\u001b[38;5;124;43m'\u001b[39;49m\u001b[38;5;124;43mwork_dirs/retinanet_r18_fpn_1x_kitti/latest.pth\u001b[39;49m\u001b[38;5;124;43m'\u001b[39;49m\u001b[43m)\u001b[49m\n\u001b[0;32m      5\u001b[0m result \u001b[38;5;241m=\u001b[39m inference_detector(model, image)\n\u001b[0;32m      6\u001b[0m show_result_pyplot(model, image, result)\n",
      "File \u001b[1;32m~\\Miniconda3\\envs\\mm\\lib\\site-packages\\mmdet\\apis\\inference.py:33\u001b[0m, in \u001b[0;36minit_detector\u001b[1;34m(config, checkpoint, device, cfg_options)\u001b[0m\n\u001b[0;32m     19\u001b[0m \u001b[38;5;124;03m\"\"\"Initialize a detector from config file.\u001b[39;00m\n\u001b[0;32m     20\u001b[0m \n\u001b[0;32m     21\u001b[0m \u001b[38;5;124;03mArgs:\u001b[39;00m\n\u001b[1;32m   (...)\u001b[0m\n\u001b[0;32m     30\u001b[0m \u001b[38;5;124;03m    nn.Module: The constructed detector.\u001b[39;00m\n\u001b[0;32m     31\u001b[0m \u001b[38;5;124;03m\"\"\"\u001b[39;00m\n\u001b[0;32m     32\u001b[0m \u001b[38;5;28;01mif\u001b[39;00m \u001b[38;5;28misinstance\u001b[39m(config, (\u001b[38;5;28mstr\u001b[39m, Path)):\n\u001b[1;32m---> 33\u001b[0m     config \u001b[38;5;241m=\u001b[39m \u001b[43mmmcv\u001b[49m\u001b[38;5;241;43m.\u001b[39;49m\u001b[43mConfig\u001b[49m\u001b[38;5;241;43m.\u001b[39;49m\u001b[43mfromfile\u001b[49m\u001b[43m(\u001b[49m\u001b[43mconfig\u001b[49m\u001b[43m)\u001b[49m\n\u001b[0;32m     34\u001b[0m \u001b[38;5;28;01melif\u001b[39;00m \u001b[38;5;129;01mnot\u001b[39;00m \u001b[38;5;28misinstance\u001b[39m(config, mmcv\u001b[38;5;241m.\u001b[39mConfig):\n\u001b[0;32m     35\u001b[0m     \u001b[38;5;28;01mraise\u001b[39;00m \u001b[38;5;167;01mTypeError\u001b[39;00m(\u001b[38;5;124m'\u001b[39m\u001b[38;5;124mconfig must be a filename or Config object, \u001b[39m\u001b[38;5;124m'\u001b[39m\n\u001b[0;32m     36\u001b[0m                     \u001b[38;5;124mf\u001b[39m\u001b[38;5;124m'\u001b[39m\u001b[38;5;124mbut got \u001b[39m\u001b[38;5;132;01m{\u001b[39;00m\u001b[38;5;28mtype\u001b[39m(config)\u001b[38;5;132;01m}\u001b[39;00m\u001b[38;5;124m'\u001b[39m)\n",
      "File \u001b[1;32m~\\Miniconda3\\envs\\mm\\lib\\site-packages\\mmcv\\utils\\config.py:340\u001b[0m, in \u001b[0;36mConfig.fromfile\u001b[1;34m(filename, use_predefined_variables, import_custom_modules)\u001b[0m\n\u001b[0;32m    338\u001b[0m \u001b[38;5;28;01mif\u001b[39;00m \u001b[38;5;28misinstance\u001b[39m(filename, Path):\n\u001b[0;32m    339\u001b[0m     filename \u001b[38;5;241m=\u001b[39m \u001b[38;5;28mstr\u001b[39m(filename)\n\u001b[1;32m--> 340\u001b[0m cfg_dict, cfg_text \u001b[38;5;241m=\u001b[39m \u001b[43mConfig\u001b[49m\u001b[38;5;241;43m.\u001b[39;49m\u001b[43m_file2dict\u001b[49m\u001b[43m(\u001b[49m\u001b[43mfilename\u001b[49m\u001b[43m,\u001b[49m\n\u001b[0;32m    341\u001b[0m \u001b[43m                                       \u001b[49m\u001b[43muse_predefined_variables\u001b[49m\u001b[43m)\u001b[49m\n\u001b[0;32m    342\u001b[0m \u001b[38;5;28;01mif\u001b[39;00m import_custom_modules \u001b[38;5;129;01mand\u001b[39;00m cfg_dict\u001b[38;5;241m.\u001b[39mget(\u001b[38;5;124m'\u001b[39m\u001b[38;5;124mcustom_imports\u001b[39m\u001b[38;5;124m'\u001b[39m, \u001b[38;5;28;01mNone\u001b[39;00m):\n\u001b[0;32m    343\u001b[0m     import_modules_from_strings(\u001b[38;5;241m*\u001b[39m\u001b[38;5;241m*\u001b[39mcfg_dict[\u001b[38;5;124m'\u001b[39m\u001b[38;5;124mcustom_imports\u001b[39m\u001b[38;5;124m'\u001b[39m])\n",
      "File \u001b[1;32m~\\Miniconda3\\envs\\mm\\lib\\site-packages\\mmcv\\utils\\config.py:183\u001b[0m, in \u001b[0;36mConfig._file2dict\u001b[1;34m(filename, use_predefined_variables)\u001b[0m\n\u001b[0;32m    180\u001b[0m \u001b[38;5;129m@staticmethod\u001b[39m\n\u001b[0;32m    181\u001b[0m \u001b[38;5;28;01mdef\u001b[39;00m \u001b[38;5;21m_file2dict\u001b[39m(filename, use_predefined_variables\u001b[38;5;241m=\u001b[39m\u001b[38;5;28;01mTrue\u001b[39;00m):\n\u001b[0;32m    182\u001b[0m     filename \u001b[38;5;241m=\u001b[39m osp\u001b[38;5;241m.\u001b[39mabspath(osp\u001b[38;5;241m.\u001b[39mexpanduser(filename))\n\u001b[1;32m--> 183\u001b[0m     \u001b[43mcheck_file_exist\u001b[49m\u001b[43m(\u001b[49m\u001b[43mfilename\u001b[49m\u001b[43m)\u001b[49m\n\u001b[0;32m    184\u001b[0m     fileExtname \u001b[38;5;241m=\u001b[39m osp\u001b[38;5;241m.\u001b[39msplitext(filename)[\u001b[38;5;241m1\u001b[39m]\n\u001b[0;32m    185\u001b[0m     \u001b[38;5;28;01mif\u001b[39;00m fileExtname \u001b[38;5;129;01mnot\u001b[39;00m \u001b[38;5;129;01min\u001b[39;00m [\u001b[38;5;124m'\u001b[39m\u001b[38;5;124m.py\u001b[39m\u001b[38;5;124m'\u001b[39m, \u001b[38;5;124m'\u001b[39m\u001b[38;5;124m.json\u001b[39m\u001b[38;5;124m'\u001b[39m, \u001b[38;5;124m'\u001b[39m\u001b[38;5;124m.yaml\u001b[39m\u001b[38;5;124m'\u001b[39m, \u001b[38;5;124m'\u001b[39m\u001b[38;5;124m.yml\u001b[39m\u001b[38;5;124m'\u001b[39m]:\n",
      "File \u001b[1;32m~\\Miniconda3\\envs\\mm\\lib\\site-packages\\mmcv\\utils\\path.py:23\u001b[0m, in \u001b[0;36mcheck_file_exist\u001b[1;34m(filename, msg_tmpl)\u001b[0m\n\u001b[0;32m     21\u001b[0m \u001b[38;5;28;01mdef\u001b[39;00m \u001b[38;5;21mcheck_file_exist\u001b[39m(filename, msg_tmpl\u001b[38;5;241m=\u001b[39m\u001b[38;5;124m'\u001b[39m\u001b[38;5;124mfile \u001b[39m\u001b[38;5;124m\"\u001b[39m\u001b[38;5;132;01m{}\u001b[39;00m\u001b[38;5;124m\"\u001b[39m\u001b[38;5;124m does not exist\u001b[39m\u001b[38;5;124m'\u001b[39m):\n\u001b[0;32m     22\u001b[0m     \u001b[38;5;28;01mif\u001b[39;00m \u001b[38;5;129;01mnot\u001b[39;00m osp\u001b[38;5;241m.\u001b[39misfile(filename):\n\u001b[1;32m---> 23\u001b[0m         \u001b[38;5;28;01mraise\u001b[39;00m \u001b[38;5;167;01mFileNotFoundError\u001b[39;00m(msg_tmpl\u001b[38;5;241m.\u001b[39mformat(filename))\n",
      "\u001b[1;31mFileNotFoundError\u001b[0m: file \"C:\\wangruohui\\桌面\\sjtu-openmmlab-tutorial\\retinanet_r18_fpn_1x_kitti.py\" does not exist"
     ]
    }
   ],
   "source": [
    "from mmdet.apis import init_detector, inference_detector, show_result_pyplot\n",
    "\n",
    "image = 'data/kitti_tiny/training/image_2/000066.jpeg'\n",
    "model = init_detector('retinanet_r18_fpn_1x_kitti.py', 'work_dirs/retinanet_r18_fpn_1x_kitti/latest.pth')\n",
    "result = inference_detector(model, image)\n",
    "show_result_pyplot(model, image, result)"
   ]
  },
  {
   "cell_type": "code",
   "execution_count": null,
   "id": "b19bf174-fd55-4d7f-aefd-8506bfc579c8",
   "metadata": {},
   "outputs": [],
   "source": [
    "# !mim test mmdet retinanet_r18_fpn_1x_kitti.py --checkpoint work_dirs/retinanet_r18_fpn_1x_kitti/latest.pth --eval mAP\n",
    "!mim test mmdet retinanet_r18_fpn_1x_kitti.py --checkpoint work_dirs/retinanet_r18_fpn_1x_kitti/latest.pth --show-dir work_dirs"
   ]
  },
  {
   "cell_type": "code",
   "execution_count": null,
   "id": "e3fab84e-078f-4843-90b2-f3cd0e757af9",
   "metadata": {},
   "outputs": [],
   "source": []
  }
 ],
 "metadata": {
  "kernelspec": {
   "display_name": "Python 3 (ipykernel)",
   "language": "python",
   "name": "python3"
  },
  "language_info": {
   "codemirror_mode": {
    "name": "ipython",
    "version": 3
   },
   "file_extension": ".py",
   "mimetype": "text/x-python",
   "name": "python",
   "nbconvert_exporter": "python",
   "pygments_lexer": "ipython3",
   "version": "3.8.13"
  },
  "toc-autonumbering": true,
  "vscode": {
   "interpreter": {
    "hash": "e678ac14dff038bc46ab45f1b54ebd32d0ce2b34611f4e1e107e2941d3b654ca"
   }
  }
 },
 "nbformat": 4,
 "nbformat_minor": 5
}
